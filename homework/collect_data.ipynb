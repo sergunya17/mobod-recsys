{
 "cells": [
  {
   "cell_type": "code",
   "execution_count": 1,
   "metadata": {
    "collapsed": true
   },
   "outputs": [],
   "source": [
    "from pyspark.sql import SparkSession"
   ]
  },
  {
   "cell_type": "code",
   "execution_count": 2,
   "metadata": {
    "collapsed": true
   },
   "outputs": [],
   "source": [
    "app_name = \"sergunya\"\n",
    "hdfs_data_path = \"/user/mob2021045/joined_data_1m\""
   ]
  },
  {
   "cell_type": "code",
   "execution_count": 3,
   "metadata": {},
   "outputs": [],
   "source": [
    "spark = SparkSession.builder.appName(app_name).getOrCreate()"
   ]
  },
  {
   "cell_type": "code",
   "execution_count": 4,
   "metadata": {},
   "outputs": [
    {
     "name": "stdout",
     "output_type": "stream",
     "text": [
      "root\n",
      " |-- experiments: struct (nullable = true)\n",
      " |    |-- AA: string (nullable = true)\n",
      " |    |-- PERSONALIZED: string (nullable = true)\n",
      " |    |-- RECOMMENDERS: string (nullable = true)\n",
      " |-- latency: double (nullable = true)\n",
      " |-- message: string (nullable = true)\n",
      " |-- recommendation: long (nullable = true)\n",
      " |-- time: double (nullable = true)\n",
      " |-- timestamp: long (nullable = true)\n",
      " |-- track: long (nullable = true)\n",
      " |-- user: long (nullable = true)\n",
      "\n"
     ]
    }
   ],
   "source": [
    "data = spark.read.json(hdfs_data_path)\n",
    "data.printSchema()"
   ]
  },
  {
   "cell_type": "code",
   "execution_count": 5,
   "metadata": {},
   "outputs": [
    {
     "name": "stdout",
     "output_type": "stream",
     "text": [
      "+-------+-------+\n",
      "|message|  count|\n",
      "+-------+-------+\n",
      "|   next|7943132|\n",
      "|   last|1300000|\n",
      "+-------+-------+\n",
      "\n"
     ]
    }
   ],
   "source": [
    "data.groupBy(\"message\").count().show()"
   ]
  },
  {
   "cell_type": "markdown",
   "metadata": {},
   "source": [
    "## Save data for MultiDAE"
   ]
  },
  {
   "cell_type": "code",
   "execution_count": 7,
   "metadata": {},
   "outputs": [],
   "source": [
    "df = data.filter(\"time > 0.8\").select(\"user\", \"track\").dropDuplicates()\n",
    "\n",
    "df.toPandas().to_pickle(\"user-track.pkl\")"
   ]
  }
 ],
 "metadata": {
  "kernelspec": {
   "display_name": "Python 3",
   "language": "python",
   "name": "python3"
  },
  "language_info": {
   "codemirror_mode": {
    "name": "ipython",
    "version": 3
   },
   "file_extension": ".py",
   "mimetype": "text/x-python",
   "name": "python",
   "nbconvert_exporter": "python",
   "pygments_lexer": "ipython3",
   "version": "3.4.3"
  }
 },
 "nbformat": 4,
 "nbformat_minor": 2
}
